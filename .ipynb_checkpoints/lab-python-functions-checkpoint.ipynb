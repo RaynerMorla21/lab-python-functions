{
 "cells": [
  {
   "cell_type": "markdown",
   "id": "25d7736c-ba17-4aff-b6bb-66eba20fbf4e",
   "metadata": {},
   "source": [
    "# Lab | Functions"
   ]
  },
  {
   "cell_type": "markdown",
   "id": "0c581062-8967-4d93-b06e-62833222f930",
   "metadata": {
    "tags": []
   },
   "source": [
    "## Exercise: Managing Customer Orders with Functions\n",
    "\n",
    "In the previous exercise, you improved the code for managing customer orders by using loops and flow control. Now, let's take it a step further and refactor the code by introducing functions.\n",
    "\n",
    "Follow the steps below to complete the exercise:\n",
    "\n",
    "1. Define a function named `initialize_inventory` that takes `products` as a parameter. Inside the function, implement the code for initializing the inventory dictionary using a loop and user input.\n",
    "\n",
    "2. Define a function named `get_customer_orders` that takes no parameters. Inside the function, implement the code for prompting the user to enter the product names using a loop. The function should return the `customer_orders` set.\n",
    "\n",
    "3. Define a function named `update_inventory` that takes `customer_orders` and `inventory` as parameters. Inside the function, implement the code for updating the inventory dictionary based on the customer orders.\n",
    "\n",
    "4. Define a function named `calculate_order_statistics` that takes `customer_orders` and `products` as parameters. Inside the function, implement the code for calculating the order statistics (total products ordered, and percentage of unique products ordered). The function should return these values.\n",
    "\n",
    "5. Define a function named `print_order_statistics` that takes `order_statistics` as a parameter. Inside the function, implement the code for printing the order statistics.\n",
    "\n",
    "6. Define a function named `print_updated_inventory` that takes `inventory` as a parameter. Inside the function, implement the code for printing the updated inventory.\n",
    "\n",
    "7. Call the functions in the appropriate sequence to execute the program and manage customer orders.\n",
    "\n",
    "Hints for functions:\n",
    "\n",
    "- Consider the input parameters required for each function and their return values.\n",
    "- Utilize function parameters and return values to transfer data between functions.\n",
    "- Test your functions individually to ensure they work correctly.\n",
    "\n",
    "\n"
   ]
  },
  {
   "cell_type": "code",
   "execution_count": null,
   "id": "549a175f-fc1a-44a0-ac56-0dbe96eeeb8d",
   "metadata": {},
   "outputs": [],
   "source": [
    "Define a function named \"initialize_inventory\" that takes products as a parameter. \n",
    "#Inside the function, implement the code for initializing the inventory dictionary using a loop and user input.\n"
   ]
  },
  {
   "cell_type": "code",
   "execution_count": 3,
   "id": "a67fa29e-7d3c-4eaa-a2db-9b5bbf1d73a6",
   "metadata": {},
   "outputs": [],
   "source": [
    "def intialize_inventory(products):\n",
    "    inventory = {}\n",
    "    for product in products:\n",
    "        quantity = int(input(f\"Enter the quantity of {product}: \"))\n",
    "        inventory[product] = quantity\n",
    "    return inventory"
   ]
  },
  {
   "cell_type": "code",
   "execution_count": null,
   "id": "29d67b8b-72a7-4263-9094-e31cb2765315",
   "metadata": {},
   "outputs": [],
   "source": [
    "#Define a function named get_customer_orders that takes no parameters. \n",
    "#Inside the function, implement the code for prompting the user to enter the product names using a loop. \n",
    "#The function should return the customer_orders set."
   ]
  },
  {
   "cell_type": "code",
   "execution_count": 9,
   "id": "c5239f53-519d-40d6-8e82-48362eff48b5",
   "metadata": {},
   "outputs": [],
   "source": [
    "def get_customer_orders():\n",
    "    customer_order = set()\n",
    "    while True:\n",
    "          product = input(\"Enter The Name of product that you would like: \").strip().lower()\n",
    "          if product:\n",
    "              customer_orders.add(product)\n",
    "          else:\n",
    "               break\n",
    "    return customer_orders\n",
    "        "
   ]
  },
  {
   "cell_type": "code",
   "execution_count": null,
   "id": "f95c0bf4-4e30-4192-bcdd-a46739107db0",
   "metadata": {},
   "outputs": [],
   "source": [
    "#Define a function named update_inventory that takes customer_orders and inventory as parameters. \n",
    "#Inside the function, implement the code for updating the inventory dictionary based on the customer orders."
   ]
  },
  {
   "cell_type": "code",
   "execution_count": 10,
   "id": "57e39fce-c8f5-426a-8e81-5c0b9612c7cc",
   "metadata": {},
   "outputs": [],
   "source": [
    "def update_inventory(customer_orders, inventory):\n",
    "    for product in customer_orders:\n",
    "        if product in inventory:\n",
    "            inventory[product] -= 1\n"
   ]
  },
  {
   "cell_type": "code",
   "execution_count": null,
   "id": "5a652e65-d7dc-46b1-887d-6e03222055f7",
   "metadata": {},
   "outputs": [],
   "source": [
    "\"\"Define a function named calculate_order_statistics that takes customer_orders and products as parameters. \"\n",
    "Inside the function, implement the code for #calculating the order statistics (total products ordered, and percentage of unique products ordered). \n",
    "\"The function should return these values.\"\""
   ]
  },
  {
   "cell_type": "code",
   "execution_count": 11,
   "id": "232aa976-5563-45d1-84bc-727f7ce0437e",
   "metadata": {},
   "outputs": [],
   "source": [
    "def calculate_order_statistics(customer_orders, products):\n",
    "    total_products_ordered = len(customer_orders)\n",
    "    total_available_products = len(products)\n",
    "    percentage_ordered = (total_products_ordered / total_available_products) * 100\n",
    "    return total_products_ordered, percentage_ordered\n"
   ]
  },
  {
   "cell_type": "code",
   "execution_count": null,
   "id": "0605ef87-c60b-429e-806f-878a96d50df3",
   "metadata": {},
   "outputs": [],
   "source": [
    "#Define a function named print_order_statistics that takes order_statistics as a parameter. \n",
    "#Inside the function, implement the code for printing the order statistics.\n",
    "\n"
   ]
  },
  {
   "cell_type": "code",
   "execution_count": 12,
   "id": "c1dbd8e8-793d-49c1-928e-4820aebc8e14",
   "metadata": {},
   "outputs": [],
   "source": [
    "def print_order_statistics(order_statistics):\n",
    "    total_products_ordered, percentage_ordered = order_statistics\n",
    "    print(\"Order Statistics:\")\n",
    "    print(\"Total Products Ordered:\", total_products_ordered)\n",
    "    print(f\"Percentage of Products Ordered: {percentage_ordered:.2f}%\")\n"
   ]
  },
  {
   "cell_type": "code",
   "execution_count": null,
   "id": "8aca5ab0-8bf0-482d-8086-97f7f6552630",
   "metadata": {},
   "outputs": [],
   "source": [
    "#Define a function named print_updated_inventory that takes inventory as a parameter. \n",
    "#Inside the function, implement the code for printing the updated inventory."
   ]
  },
  {
   "cell_type": "code",
   "execution_count": 13,
   "id": "f090bb22-cd64-4ca7-9ec4-38ff2ca21249",
   "metadata": {},
   "outputs": [],
   "source": [
    "def print_updated_inventory(inventory):\n",
    "    print(\"Updated Inventory:\")\n",
    "    for product, quantity in inventory.items():\n",
    "        print(f\"{product}: {quantity}\")"
   ]
  }
 ],
 "metadata": {
  "kernelspec": {
   "display_name": "Python 3 (ipykernel)",
   "language": "python",
   "name": "python3"
  },
  "language_info": {
   "codemirror_mode": {
    "name": "ipython",
    "version": 3
   },
   "file_extension": ".py",
   "mimetype": "text/x-python",
   "name": "python",
   "nbconvert_exporter": "python",
   "pygments_lexer": "ipython3",
   "version": "3.11.7"
  }
 },
 "nbformat": 4,
 "nbformat_minor": 5
}
